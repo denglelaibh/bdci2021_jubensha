{
 "cells": [
  {
   "cell_type": "code",
   "execution_count": 1,
   "id": "painted-proposition",
   "metadata": {},
   "outputs": [],
   "source": [
    "import pandas as pd\n",
    "train=pd.read_csv('/home/xiaoguzai/代码/剧本角色情感识别/数据集/train_dataset_v2.tsv', sep='\\t')"
   ]
  },
  {
   "cell_type": "code",
   "execution_count": 2,
   "id": "built-methodology",
   "metadata": {},
   "outputs": [
    {
     "name": "stdout",
     "output_type": "stream",
     "text": [
      "0        0,0,0,0,0,0\n",
      "1        0,0,0,0,0,0\n",
      "2        0,0,0,0,0,0\n",
      "3        0,0,0,0,0,0\n",
      "4        0,0,0,0,0,0\n",
      "            ...     \n",
      "42785    0,0,0,0,0,0\n",
      "42786    0,3,0,0,0,0\n",
      "42787    2,3,0,0,0,0\n",
      "42788    2,3,0,0,0,0\n",
      "42789    0,0,0,0,0,0\n",
      "Name: emotions, Length: 42790, dtype: object\n"
     ]
    }
   ],
   "source": [
    "print(train['emotions'])"
   ]
  },
  {
   "cell_type": "code",
   "execution_count": 3,
   "id": "c29beb9b",
   "metadata": {},
   "outputs": [],
   "source": [
    "content_dict = {}\n",
    "for index in range(len(train['content'])):\n",
    "    currentindex = train['id'][index]\n",
    "    currentindex = currentindex.split('_')\n",
    "    str1 = currentindex[0]\n",
    "    while len(str1) < 5:\n",
    "        str1 = '0'+str1\n",
    "    str4 = currentindex[3]\n",
    "    while len(str4) < 4:\n",
    "        str4 = '0'+str4\n",
    "    resultindex = str1+'_'+currentindex[1]+'_'+currentindex[2]+'_'+str4\n",
    "    content_dict[resultindex] = train['content'][index]"
   ]
  },
  {
   "cell_type": "code",
   "execution_count": 4,
   "id": "4ffcfb3b",
   "metadata": {},
   "outputs": [
    {
     "name": "stdout",
     "output_type": "stream",
     "text": [
      "keys = \n",
      "['01171_0001_A_0001', '01171_0001_A_0002', '01171_0001_A_0003', '01171_0001_A_0004', '01171_0001_A_0005', '01171_0001_A_0006', '01171_0001_A_0007', '01171_0001_A_0008', '01171_0001_A_0009', '01171_0001_A_0010']\n"
     ]
    }
   ],
   "source": [
    "def sortedDictValues(adict): \n",
    "    keys = adict.keys() \n",
    "    keys = sorted(keys)\n",
    "    print('keys = ')\n",
    "    print(keys[0:10])\n",
    "    new_content_dict = {}\n",
    "    for data in keys:\n",
    "        new_content_dict[data] = content_dict[data]\n",
    "    return new_content_dict \n",
    "new_content_dict = sortedDictValues(content_dict)"
   ]
  },
  {
   "cell_type": "code",
   "execution_count": 5,
   "id": "4e938cc0",
   "metadata": {},
   "outputs": [],
   "source": [
    "inv_new_content_dict = {}\n",
    "for data in new_content_dict:\n",
    "    inv_new_content_dict[new_content_dict[data]] = data"
   ]
  },
  {
   "cell_type": "code",
   "execution_count": 6,
   "id": "182ba1b6",
   "metadata": {},
   "outputs": [],
   "source": [
    "keys = new_content_dict.keys()\n",
    "keys = list(keys)\n",
    "dict_keys_index = {}\n",
    "for index in range(len(keys)):\n",
    "    #dict_keys_index[index] = keys[index]\n",
    "    dict_keys_index[keys[index]] = index"
   ]
  },
  {
   "cell_type": "code",
   "execution_count": 7,
   "id": "differential-discretion",
   "metadata": {},
   "outputs": [],
   "source": [
    "content,emotions = [],[]\n",
    "dicts = {}\n",
    "inv_dicts = {}\n",
    "label_num = 0\n",
    "characters = []\n",
    "label1,label2,label3,label4,label5,label6 = [],[],[],[],[],[]\n",
    "for index in range(len(train['content'])):\n",
    "    if pd.isna(train['emotions'][index]) == False:\n",
    "        content.append(train['content'][index])\n",
    "        emotions.append(train['emotions'][index])\n",
    "        characters.append(train['character'][index])\n",
    "        current_emotion = train['emotions'][index].split(',')\n",
    "        label1.append(int(current_emotion[0]))\n",
    "        label2.append(int(current_emotion[1]))\n",
    "        label3.append(int(current_emotion[2]))\n",
    "        label4.append(int(current_emotion[3]))\n",
    "        label5.append(int(current_emotion[4]))\n",
    "        label6.append(int(current_emotion[5]))"
   ]
  },
  {
   "cell_type": "code",
   "execution_count": 8,
   "id": "ahead-surprise",
   "metadata": {},
   "outputs": [],
   "source": [
    "set1 = set(label1)\n",
    "dict1,dict2,dict3,dict4,dict5,dict6 = {},{},{},{},{},{}\n",
    "for item in set1:\n",
    "    dict1.update({item:label1.count(item)})\n",
    "set2 = set(label2)\n",
    "for item in set2:\n",
    "    dict2.update({item:label2.count(item)})\n",
    "set3 = set(label3)\n",
    "for item in set3:\n",
    "    dict3.update({item:label3.count(item)})\n",
    "set4 = set(label4)\n",
    "for item in set4:\n",
    "    dict4.update({item:label4.count(item)})\n",
    "set5 = set(label5)\n",
    "for item in set5:\n",
    "    dict5.update({item:label5.count(item)})\n",
    "set6 = set(label6)\n",
    "for item in set6:\n",
    "    dict6.update({item:label6.count(item)})"
   ]
  },
  {
   "cell_type": "code",
   "execution_count": 9,
   "id": "moving-hollywood",
   "metadata": {},
   "outputs": [
    {
     "name": "stdout",
     "output_type": "stream",
     "text": [
      "---__init__ Nezha\n"
     ]
    }
   ],
   "source": [
    "import pandas as pd\n",
    "import itertools\n",
    "import json\n",
    "import math\n",
    "from bertmodels import Config\n",
    "from nezha import Bert\n",
    "vocab_file = r'/home/xiaoguzai/数据集/Nezha-Base/vocab.txt'\n",
    "vocab_size = len(open(vocab_file,'r').readlines()) \n",
    "with open('/home/xiaoguzai/数据集/Nezha-Base/config.json','r',encoding='utf8')as fp:\n",
    "    json_data = json.load(fp)\n",
    "json_data['vocab_size'] = vocab_size\n",
    "config = Config(**json_data)\n",
    "\n",
    "import torch\n",
    "import torch.nn as nn\n",
    "import torch.nn.functional as F\n",
    "from torch.utils.data import Dataset,DataLoader\n",
    "from tokenization import FullTokenizer\n",
    "import numpy as np\n",
    "tokenizer = FullTokenizer(vocab_file=vocab_file)\n",
    "from tqdm import tqdm\n",
    "config.with_mlm = False\n",
    "#config.with_pooler = True\n",
    "bertmodel = Bert(config)"
   ]
  },
  {
   "cell_type": "markdown",
   "id": "divided-morrison",
   "metadata": {},
   "source": [
    "from loader_nezha import load_bert_data\n",
    "bertmodel = load_bert_data(bertmodel,'/home/xiaoguzai/数据集/Nezha-Base/pytorch_model.bin')"
   ]
  },
  {
   "cell_type": "code",
   "execution_count": 10,
   "id": "talented-dryer",
   "metadata": {},
   "outputs": [
    {
     "name": "stdout",
     "output_type": "stream",
     "text": [
      "555load Pytorch model555\n",
      "Done loading 196 NEZHA weights from: /home/xiaoguzai/数据集/剧本角色识别/labeled_data+model_epoch=60.pth. Count of weights not found in the checkpoint was: [0]. Count of weights with mismatched shape: [0]\n",
      "Unused weights from checkpoint: \n",
      "\tmodule.mlm_norm.bias\n",
      "\tmodule.mlm_dense1.weight\n",
      "\tmodule.mlm_norm.weight\n",
      "\tmodule.mlm_dense0.bias\n",
      "\tmodule.mlm_dense0.weight\n",
      "\tmodule.mlm_dense1.bias\n"
     ]
    }
   ],
   "source": [
    "from loader_pretrain_weights import load_bert_data\n",
    "bertmodel = load_bert_data(bertmodel,'/home/xiaoguzai/数据集/剧本角色识别/labeled_data+model_epoch=60.pth')"
   ]
  },
  {
   "cell_type": "code",
   "execution_count": 11,
   "id": "descending-cathedral",
   "metadata": {},
   "outputs": [],
   "source": [
    "class ClassificationDataset(Dataset):\n",
    "    def __init__(self,text,characters,label1,label2,label3,label4,label5,label6,maxlen,flag):\n",
    "        self.text = text\n",
    "        self.maxlen = maxlen\n",
    "        self.characters = characters\n",
    "        #self.label = [label1,label2,label3,label4,label5,label6]\n",
    "        token_data,token_id,segment_id,mask_id = [],[],[],[]\n",
    "        #sequence填充可以最后统一实现\n",
    "        for index in tqdm(range(len(self.text))):\n",
    "            current_text = text[index]\n",
    "            current_character = characters[index]\n",
    "            current_token = tokenizer.tokenize(current_text)\n",
    "            current_str_index = inv_new_content_dict[current_text]\n",
    "\n",
    "            current_key_index = dict_keys_index[current_str_index]\n",
    "            while current_key_index != -1 and new_content_dict[keys[current_key_index]] == current_text:\n",
    "                current_key_index = current_key_index-1\n",
    "            #找寻前面语句的过程之中去重\n",
    "            if current_key_index == -1:\n",
    "                pre_content = ''\n",
    "            else:\n",
    "                pre_content = new_content_dict[keys[current_key_index]]\n",
    "            #找到前面去重之后的语句内容\n",
    "            new_str_index = keys[current_key_index]\n",
    "            current_str_index = current_str_index.split('_')\n",
    "            new_str_index = new_str_index.split('_')\n",
    "            if current_str_index[0] != new_str_index[0]:\n",
    "                pre_content = ''\n",
    "            if current_str_index[1] != new_str_index[1]:\n",
    "                pre_content = ''\n",
    "            #不属于同一个剧本杀的剧本\n",
    "            \n",
    "            \n",
    "            if str(current_character) == 'nan':\n",
    "                current_character = '无'\n",
    "            if pre_content == '':\n",
    "                pre_content = '无'\n",
    "            current_character_token = tokenizer.tokenize(current_character)\n",
    "            pre_token = tokenizer.tokenize(pre_content)\n",
    "            current_token = [\"[CLS]\"]+pre_token+[\"[SEP]\"]+current_token+[\"[SEP]\"]+current_character_token+[\"[SEP]\"]\n",
    "\n",
    "            current_id = tokenizer.convert_tokens_to_ids(current_token)            \n",
    "            current_id = self.sequence_padding(current_id)\n",
    "            token_data.append(current_token)\n",
    "            token_id.append(current_id)\n",
    "        self.token_data = token_data\n",
    "        self.token_id = token_id\n",
    "        self.label = [label1,label2,label3,label4,label5,label6]\n",
    "        self.tensors = [torch.tensor(self.token_id,dtype=torch.long),\n",
    "                 torch.tensor(self.label[0],dtype=torch.long),\n",
    "                 torch.tensor(self.label[1],dtype=torch.long),\n",
    "                 torch.tensor(self.label[2],dtype=torch.long),\n",
    "                 torch.tensor(self.label[3],dtype=torch.long),\n",
    "                 torch.tensor(self.label[4],dtype=torch.long),\n",
    "                 torch.tensor(self.label[5],dtype=torch.long)]\n",
    "        \n",
    "    def __len__(self):\n",
    "        return len(self.token_id)\n",
    "    \n",
    "    def __getitem__(self,index):\n",
    "        return tuple(tensor[index] for tensor in self.tensors)\n",
    "\n",
    "    def sequence_padding(self,inputs,padding = 0):\n",
    "        length = self.maxlen\n",
    "        if len(inputs) > length:\n",
    "            inputs = inputs[:length]\n",
    "        outputs = []\n",
    "        pad_width = (0,length-len(inputs))\n",
    "        x = np.pad(inputs,pad_width,'constant',constant_values=padding)\n",
    "        return x"
   ]
  },
  {
   "cell_type": "code",
   "execution_count": 12,
   "id": "sealed-effect",
   "metadata": {},
   "outputs": [
    {
     "name": "stderr",
     "output_type": "stream",
     "text": [
      "100%|██████████| 29426/29426 [00:05<00:00, 5365.77it/s]\n",
      "100%|██████████| 7356/7356 [00:01<00:00, 5338.13it/s]\n"
     ]
    }
   ],
   "source": [
    "text = content\n",
    "from sklearn.model_selection import KFold\n",
    "from sklearn.model_selection import StratifiedKFold\n",
    "import numpy as np\n",
    "ss = StratifiedKFold(n_splits=5,shuffle=True,random_state=2)\n",
    "#建立4折交叉验证方法 查一下KFold函数的参数\n",
    "text = np.array(text)\n",
    "label1 = np.array(label1)\n",
    "label2 = np.array(label2)\n",
    "label3 = np.array(label3)\n",
    "label4 = np.array(label4)\n",
    "label5 = np.array(label5)\n",
    "label6 = np.array(label6)\n",
    "characters = np.array(characters)\n",
    "for train_index,test_index in ss.split(text,label1):\n",
    "    train_text = text[np.array(train_index)]\n",
    "    test_text = text[test_index]\n",
    "    train_characters = characters[train_index]\n",
    "    test_characters = characters[test_index]\n",
    "    train_label1 = label1[train_index]\n",
    "    test_label1 = label1[test_index]\n",
    "    train_label2 = label2[train_index]\n",
    "    test_label2 = label2[test_index]\n",
    "    train_label3 = label3[train_index]\n",
    "    test_label3 = label3[test_index]\n",
    "    train_label4 = label4[train_index]\n",
    "    test_label4 = label4[test_index]\n",
    "    train_label5 = label5[train_index]\n",
    "    test_label5 = label5[test_index]\n",
    "    train_label6 = label6[train_index]\n",
    "    test_label6 = label6[test_index]\n",
    "train_dataset = ClassificationDataset(train_text,train_characters,train_label1,train_label2,train_label3,train_label4,train_label5,train_label6,maxlen=350,flag=True)\n",
    "test_dataset = ClassificationDataset(test_text,test_characters,test_label1,test_label2,test_label3,test_label4,test_label5,test_label6,maxlen=350,flag=False)\n",
    "#到里面的classificationdataset才进行字符的切割以及划分\n",
    "train_loader = DataLoader(train_dataset,batch_size=16,shuffle=True)\n",
    "test_loader = DataLoader(test_dataset,batch_size=16)"
   ]
  },
  {
   "cell_type": "code",
   "execution_count": 13,
   "id": "portuguese-synthesis",
   "metadata": {},
   "outputs": [],
   "source": [
    "class ClassificationModel(nn.Module):\n",
    "    def __init__(self,model,config,n_labels):\n",
    "        super(ClassificationModel,self).__init__()\n",
    "        #self.embedding = nn.Embedding(30522,768)\n",
    "        self.model = model\n",
    "        self.fc1 = nn.Linear(config.embedding_size,128)\n",
    "        self.activation = F.relu\n",
    "        self.dropout = nn.Dropout(0.2)\n",
    "        #self.activation = F.tanh\n",
    "        self.fc2 = nn.Linear(128,n_labels)\n",
    "        \n",
    "    def forward(self,input_ids,segment_ids,input_mask):\n",
    "        #outputs = self.embedding(input_ids)\n",
    "        output = self.model(input_ids)\n",
    "        #[64,128,768]\n",
    "        output = self.dropout(output)\n",
    "        output = output[:,0]\n",
    "        output = self.fc1(output)\n",
    "        output = self.activation(output)\n",
    "        output = self.dropout(output)\n",
    "        output = self.fc2(output)\n",
    "        return output\n",
    "    #之前这里少量return outputs返回值为None"
   ]
  },
  {
   "cell_type": "code",
   "execution_count": 14,
   "id": "f34fb4b6",
   "metadata": {},
   "outputs": [],
   "source": [
    "def compute_multilabel_loss(x,model,label):\n",
    "    logit = model(x,None,None)\n",
    "    mseloss = 0\n",
    "    loss_fn = torch.nn.MSELoss(reduce=True, size_average=True)\n",
    "    logit = torch.transpose(logit, 0, 1)\n",
    "    mseloss = loss_fn(logit,label)\n",
    "    return mseloss"
   ]
  },
  {
   "cell_type": "markdown",
   "id": "c02293b0",
   "metadata": {},
   "source": [
    "def compute_multilabel_loss(x,model,label):\n",
    "    logit = model(x,None,None)\n",
    "    mseloss = 0\n",
    "    loss_fn = torch.nn.MSELoss(reduce=True, size_average=True)\n",
    "    logit = torch.transpose(logit, 0, 1)\n",
    "    mseloss = 0\n",
    "    totaltimes = logit.shape[1]\n",
    "    for index in range(len(logit)):\n",
    "        for index1 in range(len(logit[index])):\n",
    "            mseloss = mseloss+(logit[index][index1]-label[index][index1])**2\n",
    "            if index == 5 and (label[index][index1] == 2 or label[index][index1] == 3):\n",
    "                mseloss = mseloss+(logit[index][index1]-label[index][index1])**2\n",
    "        #currentloss = loss_fn(logit,label)\n",
    "        #if index == 5:\n",
    "            #mseloss = mseloss+0.6*currentloss\n",
    "    #mseloss = loss_fn(logit,label)\n",
    "    return mseloss/totaltimes"
   ]
  },
  {
   "cell_type": "code",
   "execution_count": 15,
   "id": "seventh-fundamental",
   "metadata": {},
   "outputs": [],
   "source": [
    "from loader_bert import load_bert_data\n",
    "from tqdm import tqdm\n",
    "from colorama import Fore\n",
    "n_label = 6\n",
    "model = ClassificationModel(bertmodel,config,n_label)"
   ]
  },
  {
   "cell_type": "code",
   "execution_count": 16,
   "id": "prepared-layout",
   "metadata": {
    "scrolled": true
   },
   "outputs": [
    {
     "name": "stdout",
     "output_type": "stream",
     "text": [
      "初始化的学习率： 9e-06\n",
      "epoch 0\n"
     ]
    },
    {
     "name": "stderr",
     "output_type": "stream",
     "text": [
      "/home/xiaoguzai/enter/lib/python3.8/site-packages/torch/nn/_reduction.py:44: UserWarning: size_average and reduce args will be deprecated, please use reduction='mean' instead.\n",
      "  warnings.warn(warning.format(ret))\n",
      "100%|██████████| 1840/1840 [06:55<00:00,  4.43it/s]\n"
     ]
    },
    {
     "name": "stdout",
     "output_type": "stream",
     "text": [
      "第0个epoch的学习率：0.000009\n",
      "Train Loss: 373.746887\n"
     ]
    },
    {
     "name": "stderr",
     "output_type": "stream",
     "text": [
      "100%|██████████| 460/460 [00:41<00:00, 11.07it/s]\n"
     ]
    },
    {
     "name": "stdout",
     "output_type": "stream",
     "text": [
      "index = 0,current_loss = 0.132370\n",
      "index = 1,current_loss = 0.118148\n",
      "index = 2,current_loss = 0.128403\n",
      "index = 3,current_loss = 0.198189\n",
      "index = 4,current_loss = 0.182803\n",
      "index = 5,current_loss = 0.381219\n",
      "totalloss = \n",
      "1.1411320492625237\n",
      "current_point = \n",
      "0.6963273010977119\n",
      "epoch 1\n"
     ]
    },
    {
     "name": "stderr",
     "output_type": "stream",
     "text": [
      "100%|██████████| 1840/1840 [07:07<00:00,  4.31it/s]\n"
     ]
    },
    {
     "name": "stdout",
     "output_type": "stream",
     "text": [
      "第1个epoch的学习率：0.000006\n",
      "Train Loss: 272.041107\n"
     ]
    },
    {
     "name": "stderr",
     "output_type": "stream",
     "text": [
      "100%|██████████| 460/460 [00:39<00:00, 11.63it/s]\n"
     ]
    },
    {
     "name": "stdout",
     "output_type": "stream",
     "text": [
      "index = 0,current_loss = 0.127040\n",
      "index = 1,current_loss = 0.110904\n",
      "index = 2,current_loss = 0.119397\n",
      "index = 3,current_loss = 0.176156\n",
      "index = 4,current_loss = 0.161080\n",
      "index = 5,current_loss = 0.311919\n",
      "totalloss = \n",
      "1.0064957067370415\n",
      "current_point = \n",
      "0.7094351667982047\n",
      "epoch 2\n"
     ]
    },
    {
     "name": "stderr",
     "output_type": "stream",
     "text": [
      "100%|██████████| 1840/1840 [06:36<00:00,  4.64it/s]\n"
     ]
    },
    {
     "name": "stdout",
     "output_type": "stream",
     "text": [
      "第2个epoch的学习率：0.000005\n",
      "Train Loss: 211.978790\n"
     ]
    },
    {
     "name": "stderr",
     "output_type": "stream",
     "text": [
      "100%|██████████| 460/460 [00:39<00:00, 11.62it/s]\n"
     ]
    },
    {
     "name": "stdout",
     "output_type": "stream",
     "text": [
      "index = 0,current_loss = 0.126170\n",
      "index = 1,current_loss = 0.111619\n",
      "index = 2,current_loss = 0.118074\n",
      "index = 3,current_loss = 0.173486\n",
      "index = 4,current_loss = 0.164635\n",
      "index = 5,current_loss = 0.313197\n",
      "totalloss = \n",
      "1.0071808025240898\n",
      "current_point = \n",
      "0.7093650296157131\n",
      "epoch 3\n"
     ]
    },
    {
     "name": "stderr",
     "output_type": "stream",
     "text": [
      "100%|██████████| 1840/1840 [06:38<00:00,  4.62it/s]\n"
     ]
    },
    {
     "name": "stdout",
     "output_type": "stream",
     "text": [
      "第3个epoch的学习率：0.000004\n",
      "Train Loss: 172.552017\n"
     ]
    },
    {
     "name": "stderr",
     "output_type": "stream",
     "text": [
      "100%|██████████| 460/460 [00:40<00:00, 11.49it/s]\n"
     ]
    },
    {
     "name": "stdout",
     "output_type": "stream",
     "text": [
      "index = 0,current_loss = 0.123781\n",
      "index = 1,current_loss = 0.110606\n",
      "index = 2,current_loss = 0.119549\n",
      "index = 3,current_loss = 0.184593\n",
      "index = 4,current_loss = 0.159940\n",
      "index = 5,current_loss = 0.321656\n",
      "totalloss = \n",
      "1.020124725997448\n",
      "current_point = \n",
      "0.7080469254263437\n",
      "epoch 4\n"
     ]
    },
    {
     "name": "stderr",
     "output_type": "stream",
     "text": [
      "100%|██████████| 1840/1840 [06:38<00:00,  4.62it/s]\n"
     ]
    },
    {
     "name": "stdout",
     "output_type": "stream",
     "text": [
      "第4个epoch的学习率：0.000003\n",
      "Train Loss: 148.125946\n"
     ]
    },
    {
     "name": "stderr",
     "output_type": "stream",
     "text": [
      "100%|██████████| 460/460 [00:40<00:00, 11.40it/s]\n"
     ]
    },
    {
     "name": "stdout",
     "output_type": "stream",
     "text": [
      "index = 0,current_loss = 0.136271\n",
      "index = 1,current_loss = 0.110912\n",
      "index = 2,current_loss = 0.121234\n",
      "index = 3,current_loss = 0.175775\n",
      "index = 4,current_loss = 0.162081\n",
      "index = 5,current_loss = 0.336388\n",
      "totalloss = \n",
      "1.0426627025008202\n",
      "current_point = \n",
      "0.7057831316720566\n",
      "epoch 5\n"
     ]
    },
    {
     "name": "stderr",
     "output_type": "stream",
     "text": [
      "100%|██████████| 1840/1840 [06:39<00:00,  4.60it/s]\n"
     ]
    },
    {
     "name": "stdout",
     "output_type": "stream",
     "text": [
      "第5个epoch的学习率：0.000009\n",
      "Train Loss: 132.268646\n"
     ]
    },
    {
     "name": "stderr",
     "output_type": "stream",
     "text": [
      "100%|██████████| 460/460 [00:40<00:00, 11.32it/s]\n"
     ]
    },
    {
     "name": "stdout",
     "output_type": "stream",
     "text": [
      "index = 0,current_loss = 0.135599\n",
      "index = 1,current_loss = 0.111701\n",
      "index = 2,current_loss = 0.123898\n",
      "index = 3,current_loss = 0.180641\n",
      "index = 4,current_loss = 0.171668\n",
      "index = 5,current_loss = 0.327508\n",
      "totalloss = \n",
      "1.0510144084692001\n",
      "current_point = \n",
      "0.7049541160598356\n",
      "epoch 6\n"
     ]
    },
    {
     "name": "stderr",
     "output_type": "stream",
     "text": [
      "100%|██████████| 1840/1840 [06:40<00:00,  4.59it/s]\n"
     ]
    },
    {
     "name": "stdout",
     "output_type": "stream",
     "text": [
      "第6个epoch的学习率：0.000009\n",
      "Train Loss: 133.640823\n"
     ]
    },
    {
     "name": "stderr",
     "output_type": "stream",
     "text": [
      "100%|██████████| 460/460 [00:41<00:00, 11.20it/s]\n"
     ]
    },
    {
     "name": "stdout",
     "output_type": "stream",
     "text": [
      "index = 0,current_loss = 0.128148\n",
      "index = 1,current_loss = 0.110316\n",
      "index = 2,current_loss = 0.123921\n",
      "index = 3,current_loss = 0.191683\n",
      "index = 4,current_loss = 0.174812\n",
      "index = 5,current_loss = 0.358686\n",
      "totalloss = \n",
      "1.0875663086771965\n",
      "current_point = \n",
      "0.701386397701856\n",
      "epoch 7\n"
     ]
    },
    {
     "name": "stderr",
     "output_type": "stream",
     "text": [
      "100%|██████████| 1840/1840 [06:42<00:00,  4.57it/s]\n"
     ]
    },
    {
     "name": "stdout",
     "output_type": "stream",
     "text": [
      "第7个epoch的学习率：0.000009\n",
      "Train Loss: 120.551010\n"
     ]
    },
    {
     "name": "stderr",
     "output_type": "stream",
     "text": [
      "100%|██████████| 460/460 [00:41<00:00, 11.10it/s]\n"
     ]
    },
    {
     "name": "stdout",
     "output_type": "stream",
     "text": [
      "index = 0,current_loss = 0.126649\n",
      "index = 1,current_loss = 0.105483\n",
      "index = 2,current_loss = 0.133121\n",
      "index = 3,current_loss = 0.174889\n",
      "index = 4,current_loss = 0.168786\n",
      "index = 5,current_loss = 0.318796\n",
      "totalloss = \n",
      "1.0277244448661804\n",
      "current_point = \n",
      "0.7072791899847034\n",
      "epoch 8\n"
     ]
    },
    {
     "name": "stderr",
     "output_type": "stream",
     "text": [
      "100%|██████████| 1840/1840 [06:44<00:00,  4.55it/s]\n"
     ]
    },
    {
     "name": "stdout",
     "output_type": "stream",
     "text": [
      "第8个epoch的学习率：0.000009\n",
      "Train Loss: 106.685959\n"
     ]
    },
    {
     "name": "stderr",
     "output_type": "stream",
     "text": [
      "100%|██████████| 460/460 [00:41<00:00, 11.00it/s]\n"
     ]
    },
    {
     "name": "stdout",
     "output_type": "stream",
     "text": [
      "index = 0,current_loss = 0.132158\n",
      "index = 1,current_loss = 0.110606\n",
      "index = 2,current_loss = 0.123715\n",
      "index = 3,current_loss = 0.180479\n",
      "index = 4,current_loss = 0.175843\n",
      "index = 5,current_loss = 0.324020\n",
      "totalloss = \n",
      "1.0468202233314514\n",
      "current_point = \n",
      "0.7053697866228332\n",
      "epoch 9\n"
     ]
    },
    {
     "name": "stderr",
     "output_type": "stream",
     "text": [
      "100%|██████████| 1840/1840 [06:46<00:00,  4.52it/s]\n"
     ]
    },
    {
     "name": "stdout",
     "output_type": "stream",
     "text": [
      "第9个epoch的学习率：0.000009\n",
      "Train Loss: 94.835228\n"
     ]
    },
    {
     "name": "stderr",
     "output_type": "stream",
     "text": [
      "100%|██████████| 460/460 [00:42<00:00, 10.90it/s]"
     ]
    },
    {
     "name": "stdout",
     "output_type": "stream",
     "text": [
      "index = 0,current_loss = 0.125110\n",
      "index = 1,current_loss = 0.110764\n",
      "index = 2,current_loss = 0.131056\n",
      "index = 3,current_loss = 0.187978\n",
      "index = 4,current_loss = 0.160511\n",
      "index = 5,current_loss = 0.326311\n",
      "totalloss = \n",
      "1.0417304709553719\n",
      "current_point = \n",
      "0.7058759947445488\n"
     ]
    },
    {
     "name": "stderr",
     "output_type": "stream",
     "text": [
      "\n"
     ]
    }
   ],
   "source": [
    "import torch.nn.functional as F\n",
    "from torch.optim.lr_scheduler import LambdaLR\n",
    "device = torch.device(\"cuda:0\" if torch.cuda.is_available() else \"cpu\")\n",
    "#model = model.to(device)\n",
    "optimizer = torch.optim.AdamW(model.parameters(), lr=9e-6)\n",
    "#不动态调整学习率的时候，lr=2e-5的时候最好值0.420293\n",
    "def lr_lambda(epoch):\n",
    "    if epoch > 5:\n",
    "        return 1\n",
    "    else:\n",
    "        return 2/(epoch+1)\n",
    "scheduler = LambdaLR(optimizer, lr_lambda)\n",
    "print(\"初始化的学习率：\", optimizer.defaults['lr'])\n",
    "bestpoint = 0.0\n",
    "for epoch in range(10):\n",
    "    print('epoch {}'.format(epoch))\n",
    "    train_loss = 0\n",
    "    train_acc = 0\n",
    "    \n",
    "    model.train()\n",
    "    \n",
    "    model = model.to(device)\n",
    "    model = nn.DataParallel(model)\n",
    "    loss_fn = torch.nn.MSELoss(reduce=True,size_average=True)\n",
    "    \n",
    "    for batch_token_ids,batch_label1,batch_label2,batch_label3,batch_label4,batch_label5,batch_label6 in tqdm(train_loader):\n",
    "        torch.set_printoptions(edgeitems=768)# 设置输出矩阵维度为768\n",
    "        #print('batch_token_ids')\n",
    "        #print(batch_token_ids)\n",
    "        batch_token_ids = batch_token_ids.to(device)\n",
    "        batch_labels = [batch_label1.numpy(),batch_label2.numpy(),batch_label3.numpy(),\\\n",
    "                        batch_label4.numpy(),batch_label5.numpy(),batch_label6.numpy()]\n",
    "        batch_labels = torch.tensor(batch_labels,dtype=torch.float)\n",
    "        batch_labels = batch_labels.to(device)\n",
    "        #for index in range(len(batch_labels)):\n",
    "        #    batch_labels[index] = batch_labels[index].to(device)\n",
    "        optimizer.zero_grad()\n",
    "        loss = compute_multilabel_loss(batch_token_ids,model,batch_labels)\n",
    "        train_loss = train_loss+loss\n",
    "        loss.backward()\n",
    "        optimizer.step()\n",
    "    scheduler.step()\n",
    "    print(\"第%d个epoch的学习率：%f\" % (epoch, optimizer.param_groups[0]['lr']))\n",
    "    #注意必须从epoch=1开始，否则第0个没有学习率\n",
    "    print('Train Loss: {:.6f}'.format(train_loss))\n",
    "    \n",
    "    model = model.to(device)\n",
    "    model.eval()\n",
    "    \n",
    "    eval_true_label = [[],[],[],[],[],[]]\n",
    "    eval_predict_label = [[],[],[],[],[],[]]\n",
    "    \n",
    "    #for batch_token_ids,batch_labels in tqdm(test_loader,bar_format='{l_bar}%s{bar}%s{r_bar}' % (Fore.BLUE, Fore.RESET)):\n",
    "    for batch_token_ids,batch_label1,batch_label2,batch_label3,batch_label4,batch_label5,batch_label6 in tqdm(test_loader):\n",
    "        batch_token_ids = batch_token_ids.to(device)\n",
    "        batch_labels = [batch_label1,batch_label2,batch_label3,batch_label4,batch_label5,batch_label6]\n",
    "        with torch.no_grad():\n",
    "            output = model(batch_token_ids,None,None)\n",
    "        for index in range(len(output)):\n",
    "            #总的数据\n",
    "            for index1 in range(len(output[index])):\n",
    "                #对应的类别概率0~6\n",
    "                abs0 = abs(output[index][index1]-0)\n",
    "                abs1 = abs(output[index][index1]-1)\n",
    "                abs2 = abs(output[index][index1]-2)\n",
    "                abs3 = abs(output[index][index1]-3)\n",
    "                currentdata = [abs0,abs1,abs2,abs3]\n",
    "                current_label = currentdata.index(min(currentdata))\n",
    "                #eval_predict_label[index1].append(current_label)\n",
    "                current_predict = output[index][index1].item()\n",
    "                if current_predict < 0.01:\n",
    "                    current_predict = 0\n",
    "                elif current_predict > 3:\n",
    "                    current_predict = 3\n",
    "                #当前类别的分类结果,这里append(output[index][index1])\n",
    "                #直接放入对应概率值时效果最好,这里直接放入0,1,2,3对应的数值\n",
    "                eval_predict_label[index1].append(current_predict)\n",
    "        for index in range(len(batch_labels)):\n",
    "            current_label = np.array(batch_labels[index].cpu()).tolist()\n",
    "            eval_true_label[index].extend(current_label)\n",
    "    criterion = nn.MSELoss()\n",
    "    totalloss = 0\n",
    "\n",
    "    for index in range(len(eval_true_label)):\n",
    "        inputs = torch.autograd.Variable(torch.from_numpy(np.array(eval_predict_label[index])))\n",
    "        target = torch.autograd.Variable(torch.from_numpy(np.array(eval_true_label[index])))\n",
    "        current_loss = criterion(inputs.float(),target.float())\n",
    "        current_loss = current_loss.item()\n",
    "        print('index = %d,current_loss = %f'%(index,current_loss))\n",
    "        totalloss = totalloss+current_loss\n",
    "    \n",
    "    #totalloss = totalloss/len(eval_predict_label)\n",
    "    print('totalloss = ')\n",
    "    print(totalloss)\n",
    "    totalloss = totalloss/6\n",
    "    totalloss = math.sqrt(totalloss)\n",
    "    currentpoint = 1/(1+totalloss)\n",
    "    #currentpoint = 1/(1+current_loss)\n",
    "    print('current_point = ')\n",
    "    print(currentpoint)\n",
    "    if currentpoint > bestpoint:\n",
    "        bestpoint = currentpoint\n",
    "        torch.save(model,'best_score'+str(bestpoint)+'.pth')"
   ]
  },
  {
   "cell_type": "code",
   "execution_count": 17,
   "id": "faced-factor",
   "metadata": {},
   "outputs": [],
   "source": [
    "model = torch.load('best_score'+str(bestpoint)+'.pth')\n",
    "test=pd.read_csv('/home/xiaoguzai/代码/剧本角色情感识别/数据集/test_dataset.tsv', sep='\\t')"
   ]
  },
  {
   "cell_type": "code",
   "execution_count": 18,
   "id": "eabde2ce",
   "metadata": {},
   "outputs": [],
   "source": [
    "content_dict = {}\n",
    "for index in range(len(test['content'])):\n",
    "    currentindex = test['id'][index]\n",
    "    currentindex = currentindex.split('_')\n",
    "    str1 = currentindex[0]\n",
    "    while len(str1) < 5:\n",
    "        str1 = '0'+str1\n",
    "    str4 = currentindex[3]\n",
    "    while len(str4) < 4:\n",
    "        str4 = '0'+str4\n",
    "    resultindex = str1+'_'+currentindex[1]+'_'+currentindex[2]+'_'+str4\n",
    "    content_dict[resultindex] = test['content'][index]"
   ]
  },
  {
   "cell_type": "code",
   "execution_count": 19,
   "id": "fd00144b",
   "metadata": {},
   "outputs": [
    {
     "name": "stdout",
     "output_type": "stream",
     "text": [
      "keys = \n",
      "['01597_0001_A_0001', '01597_0001_A_0002', '01597_0001_A_0003', '01597_0001_A_0004', '01597_0001_A_0005', '01597_0001_A_0006', '01597_0001_A_0007', '01597_0001_A_0008', '01597_0001_A_0009', '01597_0001_A_0010']\n"
     ]
    }
   ],
   "source": [
    "def sortedDictValues(adict): \n",
    "    keys = adict.keys() \n",
    "    keys = sorted(keys)\n",
    "    print('keys = ')\n",
    "    print(keys[0:10])\n",
    "    new_content_dict = {}\n",
    "    for data in keys:\n",
    "        new_content_dict[data] = content_dict[data]\n",
    "    return new_content_dict \n",
    "new_content_dict = sortedDictValues(content_dict)"
   ]
  },
  {
   "cell_type": "code",
   "execution_count": 20,
   "id": "b9499dad",
   "metadata": {},
   "outputs": [],
   "source": [
    "inv_new_content_dict = {}\n",
    "for data in new_content_dict:\n",
    "    inv_new_content_dict[new_content_dict[data]] = data"
   ]
  },
  {
   "cell_type": "code",
   "execution_count": 21,
   "id": "5a9af0d1",
   "metadata": {},
   "outputs": [],
   "source": [
    "keys = new_content_dict.keys()\n",
    "keys = list(keys)\n",
    "dict_keys_index = {}\n",
    "for index in range(len(keys)):\n",
    "    #dict_keys_index[index] = keys[index]\n",
    "    dict_keys_index[keys[index]] = index"
   ]
  },
  {
   "cell_type": "code",
   "execution_count": 22,
   "id": "215426e1",
   "metadata": {},
   "outputs": [],
   "source": [
    "content,emotions = [],[]\n",
    "dicts = {}\n",
    "inv_dicts = {}\n",
    "label_num = 0\n",
    "characters = []\n",
    "for index in range(len(test['content'])):\n",
    "        content.append(test['content'][index])\n",
    "        characters.append(test['character'][index])"
   ]
  },
  {
   "cell_type": "code",
   "execution_count": 23,
   "id": "federal-visibility",
   "metadata": {},
   "outputs": [],
   "source": [
    "testtext = test['content']\n",
    "testid = test['id']\n",
    "testcharacter = test['character']\n",
    "class TestDataset(Dataset):\n",
    "    def __init__(self,text,character,maxlen):\n",
    "        self.text = text\n",
    "        self.maxlen = maxlen\n",
    "        token_data,token_id,segment_id,mask_id = [],[],[],[]\n",
    "        #sequence填充可以最后统一实现\n",
    "        for index in tqdm(range(len(self.text))):\n",
    "            current_text = text[index]\n",
    "            current_character = characters[index]\n",
    "            current_token = tokenizer.tokenize(current_text)\n",
    "            current_str_index = inv_new_content_dict[current_text]\n",
    "\n",
    "            current_key_index = dict_keys_index[current_str_index]\n",
    "            while current_key_index != -1 and new_content_dict[keys[current_key_index]] == current_text:\n",
    "                current_key_index = current_key_index-1\n",
    "            #找寻前面语句的过程之中去重\n",
    "            if current_key_index == -1:\n",
    "                pre_content = ''\n",
    "            else:\n",
    "                pre_content = new_content_dict[keys[current_key_index]]\n",
    "            \n",
    "            new_str_index = keys[current_key_index]\n",
    "            current_str_index = current_str_index.split('_')\n",
    "            new_str_index = new_str_index.split('_')\n",
    "            if current_str_index[0] != new_str_index[0]:\n",
    "                pre_content = ''\n",
    "            if current_str_index[1] != new_str_index[1]:\n",
    "                pre_content = ''\n",
    "            #不属于同一个剧本杀的剧本\n",
    "            \n",
    "            if str(current_character) == 'nan':\n",
    "                current_character = '无'\n",
    "            if pre_content == '':\n",
    "                pre_content = '无'\n",
    "            current_character_token = tokenizer.tokenize(current_character)\n",
    "            pre_token = tokenizer.tokenize(pre_content)\n",
    "            current_token = [\"[CLS]\"]+pre_token+[\"[SEP]\"]+current_token+[\"[SEP]\"]+current_character_token+[\"[SEP]\"]\n",
    "            \n",
    "            current_id = tokenizer.convert_tokens_to_ids(current_token)            \n",
    "            current_id = self.sequence_padding(current_id)\n",
    "            token_data.append(current_token)\n",
    "            token_id.append(current_id)\n",
    "        self.token_data = token_data\n",
    "        self.token_id = token_id\n",
    "        #self.segment_id = sequence_padding(self.segment_id,maxlen)\n",
    "        #self.mask_id = sequence_padding(self.mask_id,maxlen)\n",
    "        self.tensors = [torch.tensor(self.token_id,dtype=torch.long)]\n",
    "        \n",
    "    def __len__(self):\n",
    "        return len(self.token_id)\n",
    "    \n",
    "    def __getitem__(self,index):\n",
    "        return tuple(tensor[index] for tensor in self.tensors)\n",
    "    \n",
    "    def sequence_padding(self,inputs,padding = 0):\n",
    "        length = self.maxlen\n",
    "        if len(inputs) > length:\n",
    "            inputs = inputs[:length]\n",
    "        outputs = []\n",
    "        pad_width = (0,length-len(inputs))\n",
    "        x = np.pad(inputs,pad_width,'constant',constant_values=padding)\n",
    "        return x"
   ]
  },
  {
   "cell_type": "code",
   "execution_count": 24,
   "id": "devoted-jenny",
   "metadata": {},
   "outputs": [
    {
     "name": "stderr",
     "output_type": "stream",
     "text": [
      "100%|██████████| 21376/21376 [00:04<00:00, 5240.39it/s]\n"
     ]
    }
   ],
   "source": [
    "test_dataset = TestDataset(testtext,testcharacter,maxlen=350)\n",
    "test_loader = DataLoader(test_dataset,batch_size=16,shuffle=False)"
   ]
  },
  {
   "cell_type": "markdown",
   "id": "81860705",
   "metadata": {},
   "source": [
    "## 修改测试集的评分标准"
   ]
  },
  {
   "cell_type": "code",
   "execution_count": 25,
   "id": "atlantic-dispatch",
   "metadata": {
    "scrolled": true
   },
   "outputs": [
    {
     "name": "stderr",
     "output_type": "stream",
     "text": [
      "100%|██████████| 1336/1336 [01:53<00:00, 11.74it/s]\n"
     ]
    }
   ],
   "source": [
    "model = model.to(device)\n",
    "model.eval()\n",
    "eval_loss = 0.\n",
    "eval_acc = 0.\n",
    "eval_predict_label = []\n",
    "index = []\n",
    "pred = [[],[],[],[],[],[]]\n",
    "current_index = 0\n",
    "for batch_token_ids in tqdm(test_loader):\n",
    "    batch_token_ids = batch_token_ids[0].to(device)\n",
    "    with torch.no_grad():\n",
    "        output = model(batch_token_ids,None,None)\n",
    "        for index in range(len(output)):\n",
    "            #总的数据\n",
    "            for index1 in range(len(output[index])):\n",
    "                #对应的类别概率0~6\n",
    "                abs0 = abs(output[index][index1]-0)\n",
    "                abs1 = abs(output[index][index1]-1)\n",
    "                abs2 = abs(output[index][index1]-2)\n",
    "                abs3 = abs(output[index][index1]-3)\n",
    "                currentdata = [abs0,abs1,abs2,abs3]\n",
    "                current_label = currentdata.index(min(currentdata))\n",
    "                #eval_predict_label[index1].append(current_label)\n",
    "                current_predict = output[index][index1].item()\n",
    "                \n",
    "                if current_predict < 0.01:\n",
    "                    current_predict = 0\n",
    "                elif current_predict > 3:\n",
    "                    current_predict = 3\n",
    "                \n",
    "                pred[index1].append(current_predict)\n",
    "                #eval_predict_label[index1].append(current_predict)\n",
    "                #当前类别的分类结果,这里append(output[index][index1])\n",
    "                #直接放入对应概率值时效果最好,这里直接放入0,1,2,3对应的数值\n",
    "for index in range(len(pred[0])):\n",
    "    eval_predict_label.append(str(pred[0][index])+','+str(pred[1][index])+','+str(pred[2][index])+','+str(pred[3][index])+','+str(pred[4][index])+','+str(pred[5][index]))\n",
    "result_data = []\n",
    "for index in range(len(testid)):\n",
    "    result_data.append([testid[index],eval_predict_label[index]])\n",
    "#pd.DataFrame({\"id\":testid,\"label\":eval_predict_label}).to_csv(\"/home/xiaoguzai/代码/剧本角色情感识别/数据集/crossentropy\"+str(bestpoint)+\"result.csv\",index=False)"
   ]
  },
  {
   "cell_type": "markdown",
   "id": "vietnamese-major",
   "metadata": {},
   "source": [
    "a=np.array([[1,2],[3,4]])\n",
    "b=np.array([[2,3],[4,5]])\n",
    "loss_fn = torch.nn.MSELoss(reduce=False, size_average=False)\n",
    "input = torch.autograd.Variable(torch.from_numpy(a))\n",
    "target = torch.autograd.Variable(torch.from_numpy(b))\n",
    "loss = loss_fn(input.float(),target.float())"
   ]
  },
  {
   "cell_type": "code",
   "execution_count": 26,
   "id": "completed-nitrogen",
   "metadata": {},
   "outputs": [],
   "source": [
    "import csv\n",
    "with open(r'/home/xiaoguzai/数据集/剧本角色识别/signallabelmse'+str(bestpoint)+\"result.csv\", 'w') as f:\n",
    "    tsv_w = csv.writer(f, delimiter='\\t')\n",
    "    tsv_w.writerow(['id', 'label'])  # 单行写入\n",
    "    tsv_w.writerows(result_data)  # 多行写入"
   ]
  },
  {
   "cell_type": "code",
   "execution_count": null,
   "id": "moral-rental",
   "metadata": {},
   "outputs": [],
   "source": []
  }
 ],
 "metadata": {
  "kernelspec": {
   "display_name": "Python 3",
   "language": "python",
   "name": "python3"
  },
  "language_info": {
   "codemirror_mode": {
    "name": "ipython",
    "version": 3
   },
   "file_extension": ".py",
   "mimetype": "text/x-python",
   "name": "python",
   "nbconvert_exporter": "python",
   "pygments_lexer": "ipython3",
   "version": "3.8.5"
  }
 },
 "nbformat": 4,
 "nbformat_minor": 5
}
